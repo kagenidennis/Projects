{
 "cells": [
  {
   "cell_type": "markdown",
   "metadata": {
    "cell_id": "f686f9fd-c8fc-4501-bd22-79f599c3635a"
   },
   "source": [
    "## Machine Learning Fashionista 1.0: Dimensionality Reduction\n",
    "_Dennis Kageni, March 2020_\n",
    "\n",
    "\n",
    "---\n",
    "\n"
   ]
  },
  {
   "cell_type": "markdown",
   "metadata": {
    "cell_id": "26827631-343a-4827-8976-2b91c1335ede"
   },
   "source": [
    "Instructions:\n",
    "\n",
    "1. Split your dataset from the PCA pre-class work into 80% training data and 20% testing data.\n",
    "2. Build a simple linear classifier using the original pixel data. There are several options that you can try including a linear SVC (http://scikit-learn.org/stable/modules/generated/sklearn.svm.LinearSVC.html#examples-using-sklearn-svm-linearsvc) or a logistic classifier (http://scikit-learn.org/stable/modules/generated/sklearn.linear_model.LogisticRegression.html#examples-using-sklearn-linear-model-logisticregression) both of which will be covered in more detail later in this course. What is your error rate on the training data? What is your error rate on your testing data?\n",
    "3. Train the same linear model as in question 1, but now on the reduced representation that you created using PCA. What is your error rate on the training data? What is your error rate on your testing data?\n",
    "4. Train the same linear model as in question 1, but now on the reduced representation that you created using LDA. What is your error rate on the training data? What is your error rate on your testing data?\n",
    "5. Write three paragraphs, describing and interpreting your results from questions 1, 2, and 3. Make a recommendation on which classifier you would prefer, and why.\n",
    "\n",
    "Submit your code, and results as a pdf produced from a Python Notebook. Include relevant images or plots."
   ]
  },
  {
   "cell_type": "code",
   "execution_count": 1,
   "metadata": {
    "cell_id": "55153f1e-58e2-4d46-bade-43f6ec459d71",
    "tags": []
   },
   "outputs": [],
   "source": [
    "!wget -q https://course-resources.minerva.kgi.edu/uploaded_files/mke/nA93zn/male-clothing.zip\n",
    "!wget -q https://course-resources.minerva.kgi.edu/uploaded_files/mke/VL14ar/female-clothing.zip\n",
    "!unzip -q male-clothing.zip\n",
    "!unzip -q female-clothing.zip\n",
    "!rm *.zip"
   ]
  },
  {
   "cell_type": "code",
   "execution_count": 2,
   "metadata": {
    "cell_id": "a80edc90-25ae-448a-aa91-4076cfbb820b",
    "tags": []
   },
   "outputs": [],
   "source": [
    "from glob import glob\n",
    "from PIL import Image\n",
    "import numpy as np\n",
    "from sklearn.model_selection import train_test_split\n",
    "from sklearn.linear_model import LogisticRegression\n",
    "from sklearn.svm import LinearSVC\n",
    "from sklearn import metrics\n",
    "from sklearn.metrics import confusion_matrix, roc_curve, auc, precision_recall_curve, f1_score\n",
    "from sklearn.decomposition import PCA\n",
    "from sklearn.discriminant_analysis import LinearDiscriminantAnalysis as LDA\n",
    "import matplotlib.pyplot as plt"
   ]
  },
  {
   "cell_type": "markdown",
   "metadata": {
    "cell_id": "34a48a35-6874-4888-a929-a169ef6502f9"
   },
   "source": [
    "##### Resizing and Reshaping Images"
   ]
  },
  {
   "cell_type": "code",
   "execution_count": 3,
   "metadata": {
    "cell_id": "38917ecf-2b33-4827-be56-ed5aaef3afe4",
    "tags": []
   },
   "outputs": [
    {
     "name": "stdout",
     "output_type": "stream",
     "text": [
      "Number of men clothing pictures: 1242.\n",
      "Number of women clothing pictures: 1270.\n"
     ]
    }
   ],
   "source": [
    "#file paths\n",
    "men = glob(\"Man's Clothing - n03746330/*.JPEG\")\n",
    "women = glob(\"Woman's Clothing - n04596852/*.JPEG\")\n",
    "\n",
    "print(f\"Number of men clothing pictures: {len(men)}.\")\n",
    "print(f\"Number of women clothing pictures: {len(women)}.\")"
   ]
  },
  {
   "cell_type": "code",
   "execution_count": 4,
   "metadata": {
    "cell_id": "1039ae82-ca5a-4c3f-addd-59533fb3c0e1",
    "tags": []
   },
   "outputs": [],
   "source": [
    "def flat_to_rgb(flt,size):\n",
    "    flatrgb = flt.reshape(size[0]*size[1],3)\n",
    "    prergb = np.array([tuple([int(j) for j in i]) for i in flatrgb])\n",
    "    rgb = prergb.reshape(size[1],size[0],3)/255\n",
    "    \n",
    "    return rgb\n",
    "\n",
    "def img_to_array(filename,size):\n",
    "    img = Image.open(filename)\n",
    "    img = img.resize(size)\n",
    "    return np.array(img).reshape(1,-1)"
   ]
  },
  {
   "cell_type": "code",
   "execution_count": 5,
   "metadata": {
    "cell_id": "4c8ceafc-967e-4117-a53a-7ee7e5f1e86d",
    "tags": []
   },
   "outputs": [],
   "source": [
    "data = [\n",
    "    (img_to_array(path,(200,250)),1)\n",
    "        for path in men] + [\n",
    "    (img_to_array(path,(200,250)),0)\n",
    "        for path in women]\n",
    "\n",
    "# pull out the features and the labels\n",
    "np.random.shuffle(data)\n",
    "\n",
    "X = np.array([feat for (feat,lab) in data]).reshape(-1,250*200*3)\n",
    "y = np.array([lab for (feat,lab) in data]).reshape(-1,1)"
   ]
  },
  {
   "cell_type": "markdown",
   "metadata": {
    "cell_id": "e066540c-f527-47d4-8d83-5efac4c2cb9f",
    "tags": []
   },
   "source": [
    "#### 1. Split your dataset from the PCA pre-class work into 80% training data and 20% testing data."
   ]
  },
  {
   "cell_type": "code",
   "execution_count": 6,
   "metadata": {
    "cell_id": "ef076bdd-523f-4e15-ba49-4a6fbb8648dd",
    "tags": []
   },
   "outputs": [
    {
     "name": "stdout",
     "output_type": "stream",
     "text": [
      "X   Train N: 1256, X   Test N: 1256\n",
      "Y   Train N: 1256, Y   Test N: 1256\n"
     ]
    }
   ],
   "source": [
    "X_train, X_test, y_train, y_test = train_test_split(X,y,test_size = 0.5)\n",
    "\n",
    "X.shape, y.shape, X_train.shape, y_train.shape, X_test.shape, y_test.shape\n",
    "\n",
    "#debug / verification:\n",
    "print(\"X   Train N: {}, X   Test N: {}\".format(len(X_train), len(X_test)))\n",
    "print(\"Y   Train N: {}, Y   Test N: {}\".format(len(y_train), len(y_test)))"
   ]
  },
  {
   "cell_type": "markdown",
   "metadata": {
    "cell_id": "d28569ab-183b-44c1-966a-8cfa4d20f626",
    "tags": []
   },
   "source": [
    "#### 2. Build a simple linear classifier using the original pixel data. What is your error rate on the training data? What is your error rate on your testing data?"
   ]
  },
  {
   "cell_type": "code",
   "execution_count": 7,
   "metadata": {
    "cell_id": "21e3d3c8-d7e0-493a-84be-8a1126f0cc3c",
    "tags": []
   },
   "outputs": [
    {
     "name": "stderr",
     "output_type": "stream",
     "text": [
      "/usr/local/anaconda3/lib/python3.7/site-packages/sklearn/linear_model/_logistic.py:940: ConvergenceWarning: lbfgs failed to converge (status=1):\n",
      "STOP: TOTAL NO. of ITERATIONS REACHED LIMIT.\n",
      "\n",
      "Increase the number of iterations (max_iter) or scale the data as shown in:\n",
      "    https://scikit-learn.org/stable/modules/preprocessing.html\n",
      "Please also refer to the documentation for alternative solver options:\n",
      "    https://scikit-learn.org/stable/modules/linear_model.html#logistic-regression\n",
      "  extra_warning_msg=_LOGISTIC_SOLVER_CONVERGENCE_MSG)\n"
     ]
    }
   ],
   "source": [
    "## LOGISTIC REGRESSION\n",
    "# fitting the model\n",
    "clf_log =  LogisticRegression(penalty='l2').fit(X_train, y_train.ravel())"
   ]
  },
  {
   "cell_type": "code",
   "execution_count": 8,
   "metadata": {
    "cell_id": "82ca807b-c07a-4ccd-9386-99021563b796",
    "tags": []
   },
   "outputs": [
    {
     "name": "stdout",
     "output_type": "stream",
     "text": [
      "Logistic Regression: Training set (no reduction)\n",
      "\n",
      "Accuracy Score on test set: 1.000\n",
      "[[633   0]\n",
      " [  0 623]]\n",
      "\n",
      "Classification report on test set\n",
      "              precision    recall  f1-score   support\n",
      "\n",
      "           0       1.00      1.00      1.00       633\n",
      "           1       1.00      1.00      1.00       623\n",
      "\n",
      "    accuracy                           1.00      1256\n",
      "   macro avg       1.00      1.00      1.00      1256\n",
      "weighted avg       1.00      1.00      1.00      1256\n",
      "\n",
      "____________________________________________________\n",
      "\n",
      "Logistic Regression: TEST set (no reduction)\n",
      "Accuracy Score on test set: 0.626\n",
      "\n",
      "Confusion Matrix on test set: \n",
      "[[428 209]\n",
      " [261 358]]\n",
      "\n",
      "Classification report on test set\n",
      "              precision    recall  f1-score   support\n",
      "\n",
      "           0       0.62      0.67      0.65       637\n",
      "           1       0.63      0.58      0.60       619\n",
      "\n",
      "    accuracy                           0.63      1256\n",
      "   macro avg       0.63      0.63      0.62      1256\n",
      "weighted avg       0.63      0.63      0.62      1256\n",
      "\n"
     ]
    }
   ],
   "source": [
    "# TRAIN set prediction and accuracy\n",
    "print (\"Logistic Regression: Training set (no reduction)\")\n",
    "predicted_train_log = clf_log.predict(X_train)\n",
    "score_log_train = clf_log.score(X_train, y_train)\n",
    "print (\"\\nAccuracy Score on test set: %.3f\" % score_log_train)\n",
    "print(metrics.confusion_matrix(y_train, predicted_train_log))\n",
    "print (\"\\nClassification report on test set\")\n",
    "print(metrics.classification_report(y_train, predicted_train_log))\n",
    "print (\"____________________________________________________\")\n",
    "\n",
    "# TEST set prediction and accuracy\n",
    "print (\"\\nLogistic Regression: TEST set (no reduction)\")\n",
    "predicted_test_log = clf_log.predict(X_test)\n",
    "score_log_test = clf_log.score(X_test, y_test)\n",
    "print (\"Accuracy Score on test set: %.3f\" % score_log_test)\n",
    "print (\"\\nConfusion Matrix on test set: \")\n",
    "print(metrics.confusion_matrix(y_test, predicted_test_log))\n",
    "print (\"\\nClassification report on test set\")\n",
    "print(metrics.classification_report(y_test, predicted_test_log))"
   ]
  },
  {
   "cell_type": "markdown",
   "metadata": {
    "cell_id": "1fb9cf37-1f78-4f7b-88ef-dee41b0e93ec"
   },
   "source": [
    "We can see that Logistic Regression without dimensionality reduction has a 0.61 accuracy score on the test set. Although we may be tempted to rejoice that us has a 1.00 accuracy on the training set, this actually means that we are overfitting. "
   ]
  },
  {
   "cell_type": "markdown",
   "metadata": {
    "cell_id": "4e16a56b-fff5-46ec-a8ad-e1d26726d222",
    "tags": []
   },
   "source": [
    "#### PCA Dimensionality Reduction\n",
    "##### How many components are sufficient?"
   ]
  },
  {
   "cell_type": "code",
   "execution_count": 9,
   "metadata": {
    "cell_id": "c16e0eec-ecce-454b-9503-31dcbfd6ffbb",
    "tags": []
   },
   "outputs": [
    {
     "data": {
      "text/plain": [
       "PCA(copy=True, iterated_power='auto', n_components=None, random_state=None,\n",
       "    svd_solver='auto', tol=0.0, whiten=False)"
      ]
     },
     "execution_count": 9,
     "metadata": {},
     "output_type": "execute_result"
    }
   ],
   "source": [
    "# Perform PCA\n",
    "pca_check = PCA()\n",
    "pca_check.fit(X)\n"
   ]
  },
  {
   "cell_type": "code",
   "execution_count": 10,
   "metadata": {
    "cell_id": "9b1b108b-3888-4917-8128-522984fa1da8",
    "tags": []
   },
   "outputs": [
    {
     "data": {
      "image/png": "[encoded data removed]",
      "text/plain": [
       "<Figure size 432x288 with 1 Axes>"
      ]
     },
     "metadata": {
      "needs_background": "light"
     },
     "output_type": "display_data"
    }
   ],
   "source": [
    "# Plot explained variace over n_components\n",
    "plt.title('Explained Variance')\n",
    "plt.xlabel('Number of Components')\n",
    "plt.ylabel(\"Variance(%)\")\n",
    "plt.plot(np.cumsum(pca_check.explained_variance_ratio_[:350]))\n",
    "plt.show()"
   ]
  },
  {
   "cell_type": "code",
   "execution_count": 11,
   "metadata": {
    "cell_id": "0ac1dce8-f725-4afb-9de7-66802a81ac30",
    "tags": []
   },
   "outputs": [
    {
     "name": "stdout",
     "output_type": "stream",
     "text": [
      "Variance explained by the first 300 principal components: 0.9024540195902184%.\n"
     ]
    }
   ],
   "source": [
    "print(\"Variance explained by the first 300 principal components: \" \\\n",
    "      + str(np.sum(pca_check.explained_variance_ratio_[:300])) + \"%.\")"
   ]
  },
  {
   "cell_type": "markdown",
   "metadata": {
    "cell_id": "58cab0dd-cffd-407b-bd6c-a5bd5ccaf75d",
    "tags": []
   },
   "source": [
    "Since 300 components provide about 90% of the explained variance, we will train our pca model with 300 components"
   ]
  },
  {
   "cell_type": "code",
   "execution_count": 12,
   "metadata": {
    "cell_id": "57140dee-8d85-4f7a-acd2-275f01bf5f6b",
    "tags": []
   },
   "outputs": [
    {
     "name": "stdout",
     "output_type": "stream",
     "text": [
      "original shape:    (1256, 150000)\n",
      "transformed shape: (1256, 300)\n"
     ]
    }
   ],
   "source": [
    "#Use randomized svd_solver to approx first N Principle Components much quicker than standard PCA\n",
    "#useful for high-dimensional data\n",
    "pca = PCA(n_components = 300, svd_solver='randomized').fit(X_train, y_train)\n",
    "pca_components_train = pca.transform(X_train)  \n",
    "print(\"original shape:   \", X_train.shape)\n",
    "print(\"transformed shape:\", pca_components_train.shape)"
   ]
  },
  {
   "cell_type": "code",
   "execution_count": 13,
   "metadata": {
    "cell_id": "2b8aec02-6550-48b4-a20e-6694fad52c87",
    "tags": []
   },
   "outputs": [
    {
     "name": "stdout",
     "output_type": "stream",
     "text": [
      "transformed shape: (1256, 300)\n"
     ]
    }
   ],
   "source": [
    "X_pca_train = pca.transform(X_train)\n",
    "X_pca_test = pca.transform(X_test)\n",
    "\n",
    "print(\"transformed shape:\", X_pca_train.shape)"
   ]
  },
  {
   "cell_type": "markdown",
   "metadata": {
    "cell_id": "ca5f2d20-b967-42f9-97c0-418b35016cec",
    "tags": []
   },
   "source": [
    "#### 3. Train the same linear model as in question 1, but now on the reduced representation that you created using PCA. What is your error rate on the training data? What is your error rate on your testing data?"
   ]
  },
  {
   "cell_type": "code",
   "execution_count": 15,
   "metadata": {
    "cell_id": "e466fed9-bd40-40d9-95be-f0092548cc3b",
    "tags": []
   },
   "outputs": [
    {
     "name": "stderr",
     "output_type": "stream",
     "text": [
      "/usr/local/anaconda3/lib/python3.7/site-packages/sklearn/linear_model/_logistic.py:940: ConvergenceWarning: lbfgs failed to converge (status=1):\n",
      "STOP: TOTAL NO. of ITERATIONS REACHED LIMIT.\n",
      "\n",
      "Increase the number of iterations (max_iter) or scale the data as shown in:\n",
      "    https://scikit-learn.org/stable/modules/preprocessing.html\n",
      "Please also refer to the documentation for alternative solver options:\n",
      "    https://scikit-learn.org/stable/modules/linear_model.html#logistic-regression\n",
      "  extra_warning_msg=_LOGISTIC_SOLVER_CONVERGENCE_MSG)\n"
     ]
    }
   ],
   "source": [
    "lr_pca = LogisticRegression(penalty='l2').fit(X_pca_train,y_train.ravel())"
   ]
  },
  {
   "cell_type": "code",
   "execution_count": 16,
   "metadata": {
    "cell_id": "cf3cd897-a5e0-46ae-bebc-12650a5e74fc",
    "scrolled": true
   },
   "outputs": [
    {
     "name": "stdout",
     "output_type": "stream",
     "text": [
      "PCA: Logistic Regression\n",
      "Accuracy score PCA Classifier, training set:  0.802547770700637\n",
      "Accuracy score PCA Classifier, test set:  0.6377388535031847\n",
      "\n",
      "Confusion Matrix on test set: \n",
      "[[412 225]\n",
      " [230 389]]\n",
      "\n",
      "Classification report on test set\n",
      "              precision    recall  f1-score   support\n",
      "\n",
      "           0       0.64      0.65      0.64       637\n",
      "           1       0.63      0.63      0.63       619\n",
      "\n",
      "    accuracy                           0.64      1256\n",
      "   macro avg       0.64      0.64      0.64      1256\n",
      "weighted avg       0.64      0.64      0.64      1256\n",
      "\n"
     ]
    }
   ],
   "source": [
    "print (\"PCA: Logistic Regression\")\n",
    "print (\"Accuracy score PCA Classifier, training set: \",lr_pca.score(X_pca_train,y_train))\n",
    "print (\"Accuracy score PCA Classifier, test set: \",lr_pca.score(X_pca_test,y_test))\n",
    "predicted_pca_log = lr_pca.predict(X_pca_test)\n",
    "print (\"\\nConfusion Matrix on test set: \")\n",
    "print(metrics.confusion_matrix(y_test, predicted_pca_log))\n",
    "print (\"\\nClassification report on test set\")\n",
    "print(metrics.classification_report(y_test, predicted_pca_log))"
   ]
  },
  {
   "cell_type": "markdown",
   "metadata": {
    "cell_id": "ce0eca81-02e3-4585-8691-0921a82f8360"
   },
   "source": [
    "PCA Classifier Performance"
   ]
  },
  {
   "cell_type": "code",
   "execution_count": 17,
   "metadata": {
    "cell_id": "f69e7042-be3b-4b1c-a97b-6e89db581c41"
   },
   "outputs": [
    {
     "data": {
      "image/png": "[encoded data removed]",
      "text/plain": [
       "<Figure size 720x360 with 2 Axes>"
      ]
     },
     "metadata": {
      "needs_background": "light"
     },
     "output_type": "display_data"
    }
   ],
   "source": [
    "y_pca_probs_train = lr_pca.predict_proba(X_pca_train)[:,1]\n",
    "fpr_pca_train, tpr_pca_train, thresholds_pca_train = roc_curve(y_train, y_pca_probs_train)\n",
    "precision_pca_train, recall_pca_train, _pca_tr = precision_recall_curve(y_train, y_pca_probs_train)\n",
    "lr_f1_pca_train = f1_score(y_train,lr_pca.predict(X_pca_train))\n",
    "\n",
    "y_pca_probs_test = lr_pca.predict_proba(X_pca_test)[:,1]\n",
    "fpr_pca_test, tpr_pca_test, thresholds_test = roc_curve(y_test, y_pca_probs_test)\n",
    "precision_pca_test, recall_pca_test, _pca_test = precision_recall_curve(y_test, y_pca_probs_test)\n",
    "lr_f1_pca_test = f1_score(y_test,lr_pca.predict(X_pca_test))\n",
    "\n",
    "\n",
    "fig, axes = plt.subplots(1,2,figsize=(10,5))\n",
    "\n",
    "axes[0].plot(fpr_pca_train,tpr_pca_train,label='Training set')\n",
    "axes[0].plot(fpr_pca_test,tpr_pca_test,label='Test set')\n",
    "\n",
    "\n",
    "axes[0].set_xlabel('False Positive Rate')\n",
    "axes[0].set_ylabel('True Positive Rate')\n",
    "axes[0].set_title( r'$\\bf{ROC\\ Curve}$' + '\\n AUC of the training set: {}\\nAUC of the test set: {}'.format(round(auc(fpr_pca_train,tpr_pca_train),2),round(auc(fpr_pca_test,tpr_pca_test),2)))\n",
    "axes[0].legend()\n",
    "\n",
    "axes[1].plot(recall_pca_train,precision_pca_train,label='Training set')\n",
    "axes[1].plot(recall_pca_test,precision_pca_test,label='Test set',linewidth=1)\n",
    "\n",
    "axes[1].set_ylabel('Precision')\n",
    "axes[1].set_xlabel('Recall')\n",
    "axes[1].set_title( r'$\\bf{Precision\\ vs\\ Recall}$' + '\\n F1 score of the training set: {}\\nF1 score of the test set: {}'.format(round(lr_f1_pca_train,2),round(lr_f1_pca_test,2)))\n",
    "axes[1].legend()\n",
    "\n",
    "plt.subplots_adjust(wspace=0.5,hspace=.25)\n",
    "plt.tight_layout()\n",
    "\n",
    "plt.show()"
   ]
  },
  {
   "cell_type": "markdown",
   "metadata": {
    "cell_id": "bcd50c28-9a2b-405c-9393-1f008eb9072e",
    "tags": []
   },
   "source": [
    "#### 4. Train the same linear model as in question 1, but now on the reduced representation that you created using LDA. What is your error rate on the training data? What is your error rate on your testing data?"
   ]
  },
  {
   "cell_type": "code",
   "execution_count": 19,
   "metadata": {
    "cell_id": "77573bb4-3d75-4a60-8214-d133d0ebe8c3",
    "tags": []
   },
   "outputs": [],
   "source": [
    "# LDA has a limit of k-1 components given k classes\n",
    "# since we have two classes, our n_components is thus 1\n",
    "lda = LDA(n_components=1).fit(X_train, y_train.ravel())\n",
    "lda_X_train = lda.transform(X_train) \n",
    "lda_X_test = lda.transform(X_test)\n"
   ]
  },
  {
   "cell_type": "code",
   "execution_count": 20,
   "metadata": {
    "cell_id": "3252a7d8-0baa-42e8-a2c4-1429ff0a8c0b",
    "tags": []
   },
   "outputs": [
    {
     "name": "stdout",
     "output_type": "stream",
     "text": [
      "original shape:    (1256, 150000)\n",
      "transformed shape: (1256, 1)\n"
     ]
    }
   ],
   "source": [
    "print(\"original shape:   \", X_train.shape)\n",
    "print(\"transformed shape:\", lda_X_train.shape)"
   ]
  },
  {
   "cell_type": "code",
   "execution_count": 22,
   "metadata": {
    "cell_id": "f3dbf117-8f29-4a2e-b175-23ecd856d217",
    "tags": []
   },
   "outputs": [
    {
     "name": "stdout",
     "output_type": "stream",
     "text": [
      "\n",
      "LDA: Logistic Regression\n",
      "Accuracy score LDA Classifier, training set:  0.9156050955414012\n",
      "Accuracy score LDA Classifier, test set:  0.5955414012738853\n",
      "\n",
      "Confusion Matrix on test set: \n",
      "[[372 265]\n",
      " [243 376]]\n",
      "\n",
      "Classification report on test set\n",
      "              precision    recall  f1-score   support\n",
      "\n",
      "           0       0.60      0.58      0.59       637\n",
      "           1       0.59      0.61      0.60       619\n",
      "\n",
      "    accuracy                           0.60      1256\n",
      "   macro avg       0.60      0.60      0.60      1256\n",
      "weighted avg       0.60      0.60      0.60      1256\n",
      "\n"
     ]
    }
   ],
   "source": [
    "#over LDA Data\n",
    "print (\"\\nLDA: Logistic Regression\")\n",
    "clf_lda_log = LogisticRegression(penalty='l2')\n",
    "clf_lda_log.fit(lda_X_train,y_train.ravel())\n",
    "print (\"Accuracy score LDA Classifier, training set: \",clf_lda_log.score(lda_X_train,y_train))\n",
    "print (\"Accuracy score LDA Classifier, test set: \"  ,  clf_lda_log.score(lda_X_test,y_test))\n",
    "predicted_lda_log = clf_lda_log.predict(lda_X_test)\n",
    "print (\"\\nConfusion Matrix on test set: \")\n",
    "print(metrics.confusion_matrix(y_test, predicted_lda_log))\n",
    "print (\"\\nClassification report on test set\")\n",
    "print(metrics.classification_report(y_test, predicted_lda_log))"
   ]
  },
  {
   "cell_type": "markdown",
   "metadata": {
    "cell_id": "b151abc5-9aba-43fe-9717-b37af8328f95"
   },
   "source": [
    "LDA Classifier Performance"
   ]
  },
  {
   "cell_type": "code",
   "execution_count": 23,
   "metadata": {
    "cell_id": "d59fd98b-7816-4336-bdd6-00a9b6b08265"
   },
   "outputs": [
    {
     "data": {
      "image/png": "[encoded data removed]",
      "text/plain": [
       "<Figure size 720x360 with 2 Axes>"
      ]
     },
     "metadata": {
      "needs_background": "light"
     },
     "output_type": "display_data"
    }
   ],
   "source": [
    "y_lda_probs_train = clf_lda_log.predict_proba(lda_X_train)[:,1]\n",
    "fpr_lda_train, tpr_lda_train, thresholds_lda_train = roc_curve(y_train, y_lda_probs_train)\n",
    "precision_lda_train, recall_lda_train, _lda_tr = precision_recall_curve(y_train, y_lda_probs_train)\n",
    "lr_f1_lda_train = f1_score(y_train,clf_lda_log.predict(lda_X_train))\n",
    "\n",
    "y_lda_probs_test = clf_lda_log.predict_proba(lda_X_test)[:,1]\n",
    "fpr_lda_test, tpr_lda_test, thresholds_test = roc_curve(y_test, y_lda_probs_test)\n",
    "precision_lda_test, recall_lda_test, _lda_test = precision_recall_curve(y_test, y_lda_probs_test)\n",
    "lr_f1_lda_test = f1_score(y_test,clf_lda_log.predict(lda_X_test))\n",
    "\n",
    "fig, axes = plt.subplots(1,2,figsize=(10,5))\n",
    "\n",
    "axes[0].plot(fpr_lda_train,tpr_lda_train,label='Training set')\n",
    "axes[0].plot(fpr_lda_test,tpr_lda_test,label='Test set')\n",
    "\n",
    "\n",
    "axes[0].set_xlabel('False Positive Rate')\n",
    "axes[0].set_ylabel('True Positive Rate')\n",
    "axes[0].set_title( r'$\\bf{ROC\\ Curve}$' + '\\n AUC of the training set: {}\\nAUC of the test set: {}'.format(round(auc(fpr_lda_train,tpr_lda_train),2),round(auc(fpr_lda_test,tpr_lda_test),2)))\n",
    "axes[0].legend()\n",
    "\n",
    "axes[1].plot(recall_lda_train,precision_lda_train,label='Training set')\n",
    "axes[1].plot(recall_lda_test,precision_lda_test,label='Test set',linewidth=1)\n",
    "\n",
    "axes[1].set_ylabel('Precision')\n",
    "axes[1].set_xlabel('Recall')\n",
    "axes[1].set_title( r'$\\bf{Precision\\ vs\\ Recall}$' + '\\n F1 score of the training set: {}\\nF1 score of the test set: {}'.format(round(lr_f1_lda_train,2),round(lr_f1_lda_test,2)))\n",
    "axes[1].legend()\n",
    "\n",
    "plt.subplots_adjust(wspace=0.5,hspace=.25)\n",
    "plt.tight_layout()\n",
    "\n",
    "plt.show()"
   ]
  },
  {
   "cell_type": "markdown",
   "metadata": {
    "cell_id": "57641809-32ff-45ee-bb9c-70eb385b82de"
   },
   "source": [
    "#### 5. Write three paragraphs, describing and interpreting your results from questions 1, 2, and 3. Make a recommendation on which classifier you would prefer, and why."
   ]
  },
  {
   "cell_type": "markdown",
   "metadata": {
    "cell_id": "1587773a-acbc-47c2-a3b3-92d791ae512f"
   },
   "source": [
    "**Summary of results:**\n",
    "* Original pixel dataset (150000 dimensions):\n",
    "    \n",
    "    * Training accuracy: 1.0\n",
    "    \n",
    "    * Testing accuracy: 0.61\n",
    "\n",
    "* PCA dataset (300 dimensions):\n",
    "    \n",
    "    * Training accuracy: 0.76\n",
    "    \n",
    "    * Testing accuracy: 0.62\n",
    "    \n",
    "* LDA dataset (1 dimension):\n",
    "    \n",
    "    * Training accuracy: 0.91\n",
    "    \n",
    "    * Testing accuracy: 0.60\n",
    "    \n",
    "**Interpretation**\n",
    "\n",
    "The results above reveal that while the models trained on the original dataset and LDA dataset have higher training accuracy scores, the LDA dataset model has a lower testing accuracy than the PCA dataset model (0.60 vs 0.62), while the original pixel dataset has a testing accuracy of 0.61. The higher training scores for both the original and LDA dataset models could be a result of overfitting. In the case of the original pixel dataset, the large amount of features (150000) could be generating a lot of unneccesary noise that interferes with the model's classification performance on the testing set. The LDA dataset has a reduced dimension of 1 component, and its model may be underperforming on the test set due to a lack of differentiability between the two classes when only 1 linear discriminant is derived.\n",
    "\n",
    "Principal Component Analysis with 300 components reduces the F1 score and AUC of the training set while increasing the same metrics for the test set slightly. This tells us that PCA is removing essential information from the training data for its correct classification, yet the fact that the classification performance of the test set was not affected suggests that some of the lost information was specifically relevant for the classification of the training data, yet cannot be generalizable to unseen photos.\n",
    "\n",
    "While it looks counterintuitive that LDA can perform similarly with a single component than PCA with 300 components, LDA reduces the data to a 1-dimension linear subspace that provides most separability between the classes, and it does so in a supervised way: the reduction is informed by the real labels of the data. While LDA did cause a decrease in the classification metrics for the training set, the metrics did not plummet as compared to the classification of the raw training set as with PCA. This shows that while PCA lost essential information for classification of the training set, LDA focused its reduction on keeping the training data as separable as possible.\n",
    "\n",
    "**Recommendation**\n",
    "\n",
    "Considering the training and test results, and the efficiency of the various methods, I would recommend using the PCA dataset model. Although it has a similar testing accuracy as the original dataset model, the dataset is more compact (300 dimensions dimensions vs 150000 dimensions) and so any cross-validation, training, and testing processes would be much more efficient.\n",
    "\n",
    "\n",
    "\n"
   ]
  },
  {
   "cell_type": "markdown",
   "metadata": {
    "cell_id": "2cb81578-daea-4bb2-8133-fdef8122a7f3",
    "tags": []
   },
   "source": [
    "## New markdown cell"
   ]
  }
 ],
 "metadata": {
  "deepnote_execution_queue": [],
  "deepnote_notebook_id": "9bc32002-f9a4-4ed1-8e16-79c01de4b738",
  "kernelspec": {
   "display_name": "Python 3",
   "language": "python",
   "name": "python3"
  },
  "language_info": {
   "codemirror_mode": {
    "name": "ipython",
    "version": 3
   },
   "file_extension": ".py",
   "mimetype": "text/x-python",
   "name": "python",
   "nbconvert_exporter": "python",
   "pygments_lexer": "ipython3",
   "version": "3.7.6"
  }
 },
 "nbformat": 4,
 "nbformat_minor": 4
}

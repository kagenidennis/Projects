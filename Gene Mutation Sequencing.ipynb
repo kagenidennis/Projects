{
 "cells": [
  {
   "cell_type": "markdown",
   "metadata": {
    "deletable": false,
    "editable": false,
    "nbgrader": {
     "checksum": "625ddc9f6becf2f28dda18c818f518e2",
     "grade": false,
     "grade_id": "cell-1fb3092227e4c7df",
     "locked": true,
     "schema_version": 1,
     "solution": false
    }
   },
   "source": [
    "\n",
    "# CS110 Fall 2019 - Assignment 3\n",
    "# Decoding relationships between genes\n",
    "\n",
    "## Submission Materials\n",
    "Your assignment submission needs to include the following resources:\n",
    "\n",
    "1. A PDF file must be the first resource and it will include all the answers to the questions above. \n",
    "2. Name the  PDF file: `<your_ name>.pdf`. For example, if you are a student name Dumbledore, your PDF file must be named “Dumbledore.pdf”. \n",
    "3. Make sure that you submit a neat, clearly presented, and easy-to-read PDF,  \n",
    "4. Your PDF **must also** include the Python code as an appendix at the end. This will facilitate the process of writing feedback by anchoring the feedback to specific portions of the Python code using the grader tool.\n",
    "5. Your second resource must be a single Python/Jupyter Notebook with your answers written in the assignment template provided.\n",
    "    * Name this Jupyter Notebook also using the same convention as for the PDF file;  <student_name>.ipynb. For example, if you’re Dumbledore, your  Jupyter Notebook must be named “Dumbledore.ipynb”. \n",
    "\n",
    "## Notes on Grading Rubrics\n",
    "* This is a strictly individual assignment. Everything you submit must reflect your own writing both in the text and Python programming.\n",
    "* The assignment will be graded on the quality of your report, as well as: \n",
    "    * the LOs tagged in each question. \n",
    "    * the HCs **#professionalism** and **#algorithms** based on a holistic view of the assignment.\n",
    "\n",
    "Please consult the rubrics for these LOs to optimally align your approach to the rubrics.\n",
    "* As per the course’s policy on the syllabus, you will need to footnote at least **three** HCs by including a meaningful justification of the application of each HC. \n",
    "You will need to mindfully address how the HC enabled you to complete part of your work on this assignment. Please refer to refer to [these guidelines](https://docs.google.com/document/d/1s7yOVOtMIaHQdKLeRmZbq1gRqwJKfezBsfru9Q6PcHw/edit) on how to incorporate HCs in your work.\n",
    "* You will receive a warning on the first two weak applications of the HCs used in assignments since the beginning of the course. The counting system is cumulative, and these first two warnings will not generate a grade on the HC. The third and subsequent warnings will be graded on the specific HC using the HCs corresponding rubric. Please check what your HC counter is and prepare accordingly for this assignment.\n",
    "\n",
    "\n",
    "## Overview\n",
    "Gene Mutation is a prevailing and computationally intensive research topic in Genetics. For this assignment, assume that you have been hired by a biotechnology company to work on a gene mutation research project, and your first task is to write a Python program to investigate a genealogical mutation sequencing.\n",
    "\n",
    "\n",
    "In this program, a gene is described by a string of letters, with a letter being chosen from the set ${A, C, G, T}$. A mutation is relatively rare but it can occur in which there is a small probability of either inserting a new character, deleting an existing character, or changing to a new character randomly. We can refer to these probabilities by $p_i, p_d$, and $p_c$, respectively.\n",
    "\n",
    "\n",
    "Now, suppose the starting point is a given string that undergoes a mutation process. This mutation created two other strings, the child strings of the first string. Each of these two new strings can undergo mutations by which they will change from their parent. In turn, the two-child strings, mutate and create 2 new substrings each, resulting in four grandchild strings from the original gene sequencing string. We can easily visualize the sequence of mutations if we were to draw a genealogy binary tree relating strings to their parent and grandparent strings.\n",
    "\n",
    "As a result of these mutations, we now have 7 strings but unfortunately, the order of the strings has been lost due to a glitch in the gene sequencing generation program. Therefore, your first task in the project is to recover the genealogy tree for the following set of 7 strings labelled with lowercase letters:\n",
    "\n",
    "\n",
    "`('a','ACAATCCTCGCGCAGAACAACACTTTTAACGTATCCTTGATCATTTTCCGTCCTAAGTCGAATT')`,\n",
    "`('b','CATCGCAAGCCAGCCTAATGACCGATCTCGGGTGTACTAATGGATCGTATCTCCACTCTTACACTGTCGTATTG')`,\n",
    "`('c','TCCCAGGCACTGCGACAGAAACGAGAGCGGTTTTTGACGATGGCATTCATCGATTTTCCCCCCCCTACTGATACAAACAGT')`,\n",
    "`('d','AAGCGTAATGCTGGGTAGGGAGCAAACAGGTCAAGCGGACTTGTAACCATTTTTCCCACTAAGAAGTCGCATATA')`,\n",
    "`('e','GCGTCCGCAACGTTGGGCTTCAAACGTACCGAGTTTCCGATGGATTATATTGGACAGATGATCCTACCAAGTGCCTTTTCTAACAGCTCGGTAATGTC')`,\n",
    "`('f','ACAGACTGCGGAAGCGCGACGCTTGATTTCGGCAGCCCCACGGATGGTACATAACTGCTGTTACCTACGCTACCTGCTAAACACTTCCCGCTCTG')`,\n",
    "`('g','ACGAGCAGCCACAGCACACCGTTAACTATGTGATAATCCCTCATGCGATG')`\n",
    "\n",
    "Henceforth, the set of strings created with the gene-sequencing generation program will be referred to as `Set_Strings`.\n",
    "\n",
    "# Assignment Questions\n",
    "\n",
    "Each of the questions below will be graded on the CS110 LOs included inside square brackets: \n",
    "\n",
    "## Part A [#responsibility] [appropriate LO for the make-up work] \n",
    "\n",
    "Take a screenshot of your CS110 dashboard on Forum where the following is visible:\n",
    "* your name.\n",
    "* your absences for the course have been set to excused up to session 12.2 (inclusively).\n",
    "\n",
    "Submit this screenshot as a PNG file on your Python or Jupyter notebook. \n"
   ]
  },
  {
   "attachments": {},
   "cell_type": "markdown",
   "metadata": {
    "deletable": false,
    "nbgrader": {
     "checksum": "bafe3249eeae6fd17c9101280516a5d4",
     "grade": true,
     "grade_id": "cell-e3ef8a09b9abcd54",
     "locked": false,
     "points": 0,
     "schema_version": 1,
     "solution": true
    }
   },
   "source": []
  },
  {
   "cell_type": "markdown",
   "metadata": {
    "deletable": false,
    "editable": false,
    "nbgrader": {
     "checksum": "437dd9f7cd5d57a730a59c7186c805b5",
     "grade": false,
     "grade_id": "cell-aa8e05a91d596cb9",
     "locked": true,
     "schema_version": 1,
     "solution": false
    }
   },
   "source": [
    "## Part B. Consider `Set_Strings` to answer the following questions below:\n",
    "\n",
    "### Question 1. [#DynamicProgramming, #PythonProgramming, #CodeReadability] \n",
    "\n",
    "Write Python code which, given any two arbitrary strings, outputs the length of the Longest Common Subsequence (LCS) for those two strings. Make sure to include a number of test cases that demonstrate that your code is correct.\n"
   ]
  },
  {
   "cell_type": "code",
   "execution_count": 2,
   "metadata": {},
   "outputs": [],
   "source": [
    "#importing the required libraries\n",
    "%matplotlib inline\n",
    "import numpy as np\n",
    "import matplotlib.pyplot as plt\n",
    "import pandas as pd\n",
    "import seaborn as sns\n",
    "import networkx as nx\n",
    "from drawtree import draw_level_order"
   ]
  },
  {
   "cell_type": "code",
   "execution_count": 3,
   "metadata": {
    "deletable": false,
    "nbgrader": {
     "checksum": "e5733ba5f93dc0c0c107802186f95bfc",
     "grade": false,
     "grade_id": "cell-cd0c7bc287b5b982",
     "locked": false,
     "schema_version": 1,
     "solution": true
    }
   },
   "outputs": [],
   "source": [
    "# adapted from \"Introduction to Algorithms\" 3rd edition by Cormen et al.\n",
    "# and https://www.geeksforgeeks.org/longest-common-substring/\n",
    "def longestCommonSubsequence(x, y):\n",
    "    \"\"\"\n",
    "    Function that gives us the length of the longest common subsequence from a pair of\n",
    "    strings in O(mn) time where m and n are the lengths of the strings \n",
    "    \n",
    "    Inputs:\n",
    "    Pair of strings, x & y\n",
    "    \"\"\"\n",
    "    #adding an argument to reject inputs that are not strings\n",
    "    if type(x) != str or type(y) != str:\n",
    "        raise TypeError('Inputs must be strings')\n",
    "\n",
    "    # the lengths of strings x & y\n",
    "    m = len(x)\n",
    "    n = len(y)\n",
    "\n",
    "    # construct an array of size (m+1)(n+1)\n",
    "    c = [[0 for x in range(n + 1)] for y in range(m + 1)]\n",
    "    # the first loop iterates from x[0] to x[m - 1]; \n",
    "    # the second loop iterates from y[0] to y[n - 1]\n",
    "    for i in range(m):  \n",
    "        for j in range(n): \n",
    "            if x[i] == y[j]:\n",
    "                c[i + 1][j + 1] = c[i][j] + 1  # take x[i] and y[j] for LCS\n",
    "            elif c[i][j + 1] >= c[i + 1][j]:   # x[i] not in LCS\n",
    "                c[i + 1][j + 1] = c[i][j + 1]\n",
    "            else:\n",
    "                c[i + 1][j + 1] = c[i + 1][j]  # y[j] not in LCS\n",
    "    return c[m][n]                             # return length of LCS\n",
    "\n",
    "#test cases\n",
    "assert(longestCommonSubsequence('ABCDGH', 'AEDFHR') == 3)\n",
    "assert(longestCommonSubsequence('ABC', 'AC')== 2)\n",
    "assert(longestCommonSubsequence('AGGTAB', 'GXTXAYB') == 4)\n",
    "assert(longestCommonSubsequence('AAAAAA', 'AAAAAA') == 6)"
   ]
  },
  {
   "cell_type": "code",
   "execution_count": 4,
   "metadata": {
    "deletable": false,
    "editable": false,
    "nbgrader": {
     "checksum": "1feba1d39bfd6e258b3aa17b54a1025f",
     "grade": true,
     "grade_id": "cell-b1e12047a3b75b18",
     "locked": true,
     "points": 0,
     "schema_version": 1,
     "solution": false
    }
   },
   "outputs": [],
   "source": [
    "assert(longestCommonSubsequence('ABCBDAB', 'BDCABA')==4)"
   ]
  },
  {
   "cell_type": "markdown",
   "metadata": {
    "deletable": false,
    "editable": false,
    "nbgrader": {
     "checksum": "187aa53c92b2c4e09e1a648a15cd3232",
     "grade": false,
     "grade_id": "cell-b17386c813c90125",
     "locked": true,
     "schema_version": 1,
     "solution": false
    }
   },
   "source": [
    "### Question 2. [#DynamicProgramming] \n",
    "\n",
    "How many LCSs are there in Set_Strings? Generate the matrix of the lengths of the LCS for every pair of strings in Set_Strings. The matrix should be cast as a two-dimensional numpy array. **Store this 2D numpy array to a variable named `C`**.\n",
    "\n",
    "Your 2D array `C` should have dimension (7,7) and `C[i,j]` should give the length of the LCS for the $i-$th and $j-$th strings. For example, `C[0,3]` gives the length of the LCS for string `a` and string `d`."
   ]
  },
  {
   "cell_type": "code",
   "execution_count": 5,
   "metadata": {
    "deletable": false,
    "nbgrader": {
     "checksum": "cb8c622730b9ac221cfa5cff9e3e4a65",
     "grade": false,
     "grade_id": "cell-716501a7b35216b6",
     "locked": false,
     "schema_version": 1,
     "solution": true
    },
    "scrolled": true
   },
   "outputs": [
    {
     "data": {
      "text/plain": [
       "array([[64, 45, 49, 48, 50, 48, 38],\n",
       "       [45, 74, 47, 46, 59, 58, 45],\n",
       "       [49, 47, 81, 48, 57, 57, 39],\n",
       "       [48, 46, 48, 75, 53, 54, 38],\n",
       "       [50, 59, 57, 53, 98, 61, 43],\n",
       "       [48, 58, 57, 54, 61, 95, 45],\n",
       "       [38, 45, 39, 38, 43, 45, 50]])"
      ]
     },
     "execution_count": 5,
     "metadata": {},
     "output_type": "execute_result"
    }
   ],
   "source": [
    "Set_Strings = [\n",
    "    ('ACAATCCTCGCGCAGAACAACACTTTTAACGTATCCTTGATCATTTTCCGTCCTAAGTCGAATT'),\n",
    "    ('CATCGCAAGCCAGCCTAATGACCGATCTCGGGTGTACTAATGGATCGTATCTCCACTCTTACACTGTCGTATTG'),\n",
    "    ('TCCCAGGCACTGCGACAGAAACGAGAGCGGTTTTTGACGATGGCATTCATCGATTTTCCCCCCCCTACTGATACAAACAGT'),\n",
    "    ('AAGCGTAATGCTGGGTAGGGAGCAAACAGGTCAAGCGGACTTGTAACCATTTTTCCCACTAAGAAGTCGCATATA'),\n",
    "    ('GCGTCCGCAACGTTGGGCTTCAAACGTACCGAGTTTCCGATGGATTATATTGGACAGATGATCCTACCAAGTGCCTTTTCTAACAGCTCGGTAATGTC'),\n",
    "    ('ACAGACTGCGGAAGCGCGACGCTTGATTTCGGCAGCCCCACGGATGGTACATAACTGCTGTTACCTACGCTACCTGCTAAACACTTCCCGCTCTG'),\n",
    "    ('ACGAGCAGCCACAGCACACCGTTAACTATGTGATAATCCCTCATGCGATG')\n",
    "]\n",
    "\n",
    "\n",
    "data = []  # initialize empty list\n",
    "# for loop that creates a 7*7 numpy array that stores the \n",
    "# length of the LCS for the i-th and j-th strings in Set_Strings\n",
    "for i in range(0,7):\n",
    "    data.append([])\n",
    "    for j in range(0,7):\n",
    "        data[i].append(longestCommonSubsequence(Set_Strings[i], Set_Strings[j]))\n",
    "#storing the 2D numpy array into variable C        \n",
    "C = np.array(data)\n",
    "C"
   ]
  },
  {
   "cell_type": "markdown",
   "metadata": {
    "deletable": false,
    "editable": false,
    "nbgrader": {
     "checksum": "ca56b2cd261288c198ede54dbeac2619",
     "grade": false,
     "grade_id": "cell-ad4a02de335ca7e8",
     "locked": true,
     "schema_version": 1,
     "solution": false
    }
   },
   "source": [
    "### Question 3. [#DataStructures]\n",
    "\n",
    "Manually examine the matrix you obtained in 2, and infer the genealogical relationships between strings (i.e., explicitly identify the great-grandparent, grandparent, parent and child strings), and draw the resulting genealogy binary tree associated with `Set_Strings`.\n"
   ]
  },
  {
   "cell_type": "markdown",
   "metadata": {},
   "source": [
    "Now that we have stored the 2D numpy array into `C`, we can proceed to using the information to infer the relationship between the strings. First we observe that the length of each of the seven strings given varies. Therefore, making comparisons using the absolute values may be misleading. For this reason, we normalize the variables in `C` by dividing each column with the value of its diagonal. Let's call the resulting values in each cell the LCS-share. For easier interpretation, we represent this information in a heatmap (Figure 1).   \n",
    "\n"
   ]
  },
  {
   "cell_type": "code",
   "execution_count": 6,
   "metadata": {},
   "outputs": [
    {
     "data": {
      "text/plain": [
       "array([[1.   , 0.703, 0.766, 0.75 , 0.781, 0.75 , 0.594],\n",
       "       [0.608, 1.   , 0.635, 0.622, 0.797, 0.784, 0.608],\n",
       "       [0.605, 0.58 , 1.   , 0.593, 0.704, 0.704, 0.481],\n",
       "       [0.64 , 0.613, 0.64 , 1.   , 0.707, 0.72 , 0.507],\n",
       "       [0.51 , 0.602, 0.582, 0.541, 1.   , 0.622, 0.439],\n",
       "       [0.505, 0.611, 0.6  , 0.568, 0.642, 1.   , 0.474],\n",
       "       [0.76 , 0.9  , 0.78 , 0.76 , 0.86 , 0.9  , 1.   ]])"
      ]
     },
     "execution_count": 6,
     "metadata": {},
     "output_type": "execute_result"
    }
   ],
   "source": [
    "# similar to the code in the cell above with the only difference being we\n",
    "# normalize the the variables in C and store the normalized LCS lengths into C_.\n",
    "# we then round the values to 3dp\n",
    "data_ = []\n",
    "for i in range(0,7):\n",
    "    data_.append([])\n",
    "    for j in range(0,7):\n",
    "        data_[i].append(longestCommonSubsequence(Set_Strings[i], Set_Strings[j])/len(Set_Strings[i]))\n",
    "C_ = np.array(data_)\n",
    "np.round(C_, 3)"
   ]
  },
  {
   "cell_type": "code",
   "execution_count": 7,
   "metadata": {
    "scrolled": false
   },
   "outputs": [
    {
     "data": {
      "image/png": "[encoded data removed]",
      "text/plain": [
       "<Figure size 432x288 with 2 Axes>"
      ]
     },
     "metadata": {
      "needs_background": "light"
     },
     "output_type": "display_data"
    },
    {
     "name": "stdout",
     "output_type": "stream",
     "text": [
      "Figure 1. Heat map of the LCS-share.\n"
     ]
    }
   ],
   "source": [
    "# heatmap to represent C_ for easier analysis\n",
    "ax = sns.heatmap(C_, linewidth=0.5, annot = True)\n",
    "ax.xaxis.set_ticks_position('top')\n",
    "plt.show()\n",
    "print (\"Figure 1. Heat map of the LCS-share.\")"
   ]
  },
  {
   "cell_type": "markdown",
   "metadata": {},
   "source": [
    "Let's proceed to infer the relationship between the strings:\n",
    "* We'll begin by restating what we know about know about our set of 7 strings. First, we expect to have one parent gene, two children genes, and four grandchildren genes. This gives us three parent-child relationships. We observe that when comparing the same string to itself, the LCS is the length of the string itself. \n",
    "\n",
    "* From the instructions, we know that we had an initial gene from which the other genes were created from after undergoing mutation. Since the resulting genes borrow a lot of their characteristics from the initial gene, it goes to reason that the string of genes that has shows the greatest resemblance to be the parent gene. We find this by finding the sums of the LCS-share per row and get that `G` has the greatest total LCS-share value (5.960). This is followed by `a`=(5.344),`b`=(5.054),`d`=(4.827),`c`=(4.667),`f`=(4.400),`e`=(4.296) as shown in the calculation below\n",
    "\n"
   ]
  },
  {
   "cell_type": "code",
   "execution_count": 8,
   "metadata": {
    "scrolled": true
   },
   "outputs": [
    {
     "name": "stdout",
     "output_type": "stream",
     "text": [
      "The mean LCS-share of string a is 5.344.\n",
      "The mean LCS-share of string b is 5.054.\n",
      "The mean LCS-share of string c is 4.667.\n",
      "The mean LCS-share of string d is 4.827.\n",
      "The mean LCS-share of string e is 4.296.\n",
      "The mean LCS-share of string f is 4.400.\n",
      "The mean LCS-share of string g is 5.960.\n"
     ]
    }
   ],
   "source": [
    "print (\"The mean LCS-share of string a is %.3f.\" % (C_[0].sum()))\n",
    "print (\"The mean LCS-share of string b is %.3f.\" % (C_[1].sum()))\n",
    "print (\"The mean LCS-share of string c is %.3f.\" % (C_[2].sum()))\n",
    "print (\"The mean LCS-share of string d is %.3f.\" % (C_[3].sum()))\n",
    "print (\"The mean LCS-share of string e is %.3f.\" % (C_[4].sum()))\n",
    "print (\"The mean LCS-share of string f is %.3f.\" % (C_[5].sum()))\n",
    "print (\"The mean LCS-share of string g is %.3f.\" % (C_[6].sum()))"
   ]
  },
  {
   "cell_type": "markdown",
   "metadata": {},
   "source": [
    "The resulting geneaology tree is as follows:"
   ]
  },
  {
   "cell_type": "code",
   "execution_count": 9,
   "metadata": {},
   "outputs": [
    {
     "name": "stdout",
     "output_type": "stream",
     "text": [
      "Figure 2. The inferred relationship among the seven genes.\n"
     ]
    },
    {
     "name": "stderr",
     "output_type": "stream",
     "text": [
      "/Users/denniskageni/anaconda3/lib/python3.7/site-packages/networkx/drawing/nx_pylab.py:579: MatplotlibDeprecationWarning: \n",
      "The iterable function was deprecated in Matplotlib 3.1 and will be removed in 3.3. Use np.iterable instead.\n",
      "  if not cb.iterable(width):\n",
      "/Users/denniskageni/anaconda3/lib/python3.7/site-packages/networkx/drawing/nx_pylab.py:676: MatplotlibDeprecationWarning: \n",
      "The iterable function was deprecated in Matplotlib 3.1 and will be removed in 3.3. Use np.iterable instead.\n",
      "  if cb.iterable(node_size):  # many node sizes\n"
     ]
    },
    {
     "data": {
      "image/png": "[encoded data removed]",
      "text/plain": [
       "<Figure size 432x288 with 1 Axes>"
      ]
     },
     "metadata": {},
     "output_type": "display_data"
    }
   ],
   "source": [
    "G = nx.DiGraph()\n",
    "  \n",
    "G.add_edge(6, 0)\n",
    "G.add_edge(6, 1)\n",
    "G.add_edge(1, 5)\n",
    "G.add_edge(1, 4)\n",
    "G.add_edge(0, 2)\n",
    "G.add_edge(0, 3)\n",
    "\n",
    "\n",
    "nx.draw_shell(G, with_labels=True)\n",
    "print (\"Figure 2. The inferred relationship among the seven genes.\")\n",
    "plt.show()"
   ]
  },
  {
   "cell_type": "code",
   "execution_count": 10,
   "metadata": {},
   "outputs": [
    {
     "name": "stdout",
     "output_type": "stream",
     "text": [
      "\n",
      "    __6__\n",
      "   /     \\\n",
      "  0       1\n",
      " / \\     / \\\n",
      "3   2   5   4\n",
      "\n"
     ]
    }
   ],
   "source": [
    "from binarytree import build\n",
    "values_dict = {0: \"a\", 1: \"b\", 2: \"c\", 3: \"d\", 4: \"e\", 5: \"f\", 6: \"g\"}\n",
    "values = [6,0,1,3,2,5,4]\n",
    "root = build(values)\n",
    "print(root)"
   ]
  },
  {
   "cell_type": "code",
   "execution_count": 11,
   "metadata": {
    "deletable": false,
    "editable": false,
    "nbgrader": {
     "checksum": "90742a3e427cce7e21dbb6938d29bed1",
     "grade": true,
     "grade_id": "cell-7d78dbf634c84eea",
     "locked": true,
     "points": 0,
     "schema_version": 1,
     "solution": false
    }
   },
   "outputs": [],
   "source": [
    "# Please ignore this cell. This cell is for us to implement the tests \n",
    "# to see if your code works properly. "
   ]
  },
  {
   "cell_type": "code",
   "execution_count": null,
   "metadata": {
    "deletable": false,
    "nbgrader": {
     "checksum": "3e9a1d754b0b22b3bf4d638ce48a3468",
     "grade": true,
     "grade_id": "cell-2fdd23e93518166b",
     "locked": false,
     "points": 0,
     "schema_version": 1,
     "solution": true
    }
   },
   "outputs": [],
   "source": [
    "\n",
    "    "
   ]
  },
  {
   "cell_type": "markdown",
   "metadata": {
    "deletable": false,
    "editable": false,
    "nbgrader": {
     "checksum": "84180d0d0b8d9ed1d44222e2a39b35b9",
     "grade": false,
     "grade_id": "cell-99f4e85c2cec7c3c",
     "locked": true,
     "schema_version": 1,
     "solution": false
    }
   },
   "source": [
    "### Question 4. [#PythonProgramming, #CodeReadability, #DynamicProgramming or #GreedyAlgorithms] \n",
    "\n",
    "Write an algorithm in Python for the general case, which takes as input $N$ sequencing strings and outputs a genealogy binary tree associated with the $N$ strings that best exposes the relationships between them."
   ]
  },
  {
   "cell_type": "markdown",
   "metadata": {},
   "source": [
    "The algorithm that attemps to infer the tree relationships in a gene pool is implemented in the following steps:\n",
    "1. For every pair of genes, use `longestCommonSubsequence` to find their LCS and store the values in a N*N matrix where N is the length of strings in the gene pool\n",
    "2. Normalize the N*N matrix by dividing each of the values in the cell columnwise by the value of the diagonal such that our resulting matrix has 1s along it's diagonal\n",
    "3. Find the sum of each row of the matrix. The row with the highest sum is the root gene\n",
    "4. Build the geneology tree by taking the next pair of highest row sums that are yet to be assigned and adding the associated string, breath-first, to the tree. "
   ]
  },
  {
   "cell_type": "code",
   "execution_count": 12,
   "metadata": {
    "deletable": false,
    "nbgrader": {
     "checksum": "4ddda57d2cbb78fc0f19ddb18ff7111c",
     "grade": true,
     "grade_id": "cell-d7a9b229c16d281f",
     "locked": false,
     "points": 0,
     "schema_version": 1,
     "solution": true
    }
   },
   "outputs": [
    {
     "name": "stdout",
     "output_type": "stream",
     "text": [
      "      6\n",
      "     / \\\n",
      "    /   \\\n",
      "   /     \\\n",
      "  0       1\n",
      " / \\     / \\\n",
      "3   2   5   4\n"
     ]
    },
    {
     "data": {
      "text/plain": [
       "[6, 0, 1, 3, 2, 5, 4]"
      ]
     },
     "execution_count": 12,
     "metadata": {},
     "output_type": "execute_result"
    }
   ],
   "source": [
    "def geneology_tree(Strings):\n",
    "    \"\"\"\n",
    "    Function that takes as input 𝑁 sequencing strings and outputs a genealogy binary tree \n",
    "    associated with the 𝑁 strings that best exposes the relationships between them.\n",
    "    \n",
    "    Runs in 𝑂(𝑁^2𝑚𝑛) time\n",
    "    \"\"\"\n",
    "    N = len(Strings)\n",
    "    # lcs_id creates an empty list to store the identification keys for \n",
    "    # each string for the purpose of idenfication\n",
    "    lcs_id = [i for i in range(N)] \n",
    "    # lcs_values and normalized_lcs_values create empty N*N matrices; \n",
    "    # we use lcs_values to store the LCS values of each string\n",
    "    # and normalized_lcs_values stores the normalized LCS values of each string\n",
    "    lcs_values = np.array([[.0 for _ in range(N)] for _ in range(N)])\n",
    "    normalized_lcs_values = np.array([[.0 for _ in range(N)] for _ in range(N)])\n",
    "    # a for loop that finds the number of strings in the gene pool (X) and uses it to\n",
    "    # create a X*X matrix; calculates the LCS of each pair of strings, \n",
    "    # stores it in the matrix and normalizes the matrix\n",
    "    # we then find the sum of each row and store the values in a new column \"Sum\"\n",
    "    # and sort the values in the sum column in descending order\n",
    "    for i in range(len(Strings)):\n",
    "        for j in range(len(Strings)):\n",
    "            lcs_values[i,j]=longestCommonSubsequence(Strings[i], Strings[j])/len(Strings[i]) \n",
    "        # normalizes the LCS matrix and storing the values in a table\n",
    "        normalized_lcs_values[i,:]=lcs_values[i,:]/lcs_values[i,i]\n",
    "        LCS_table=pd.DataFrame(normalized_lcs_values[i,:] for i in range(len(Strings)))\n",
    "        LCS_table[\"Sum\"]=LCS_table.sum(axis=1)\n",
    "        LCS_table[\"Index\"]=lcs_id\n",
    "        LCS_table.set_index(\"Index\")\n",
    "        LCS_table = LCS_table.sort_values(by='Sum', ascending=0)\n",
    "    # table that contains the resulting n*n matrix with additional columns \n",
    "    # for the sum and index (which stores the rank of the sum values)\n",
    "    gene_rank = list(LCS_table[\"Index\"]) \n",
    "    draw_level_order(str(gene_rank)) #draws the geneology tree\n",
    "    #return LCS_table\n",
    "    return gene_rank\n",
    "geneology_tree(Set_Strings)"
   ]
  },
  {
   "cell_type": "code",
   "execution_count": 13,
   "metadata": {
    "scrolled": false
   },
   "outputs": [
    {
     "name": "stdout",
     "output_type": "stream",
     "text": [
      "          6\n",
      "         / \\\n",
      "        /   \\\n",
      "       /     \\\n",
      "      0       1\n",
      "     / \\     / \\\n",
      "    /   \\   9   2\n",
      "   /     \\\n",
      "  7       3\n",
      " / \\     /\n",
      "8   5   4\n"
     ]
    },
    {
     "data": {
      "text/plain": [
       "[6, 0, 1, 7, 3, 9, 2, 8, 5, 4]"
      ]
     },
     "execution_count": 13,
     "metadata": {},
     "output_type": "execute_result"
    }
   ],
   "source": [
    "Set_Strings_10 = [\n",
    "    ('ACAATCCTCGCGCAGAACAACACTTTTAACGTATCCTTGATCATTTTCCGTCCTAAGTCGAATT'),\n",
    "    ('CATCGCAAGCCAGCCTAATGACCGATCTCGGGTGTACTAATGGATCGTATCTCCACTCTTACACTGTCGTATTG'),\n",
    "    ('TCCCAGGCACTGCGACAGAAACGAGAGCGGTTTTTGACGATGGCATTCATCGATTTTCCCCCCCCTACTGATACAAACAGT'),\n",
    "    ('AAGCGTAATGCTGGGTAGGGAGCAAACAGGTCAAGCGGACTTGTAACCATTTTTCCCACTAAGAAGTCGCATATA'),\n",
    "    ('GCGTCCGCAACGTTGGGCTTCAAACGTACCGAGTTTCCGATGGATTATATTGGACAGATGATCCTACCAAGTGCCTTTTCTAACAGCTCGGTAATGTC'),\n",
    "    ('ACAGACTGCGGAAGCGCGACGCTTGATTTCGGCAGCCCCACGGATGGTACATAACTGCTGTTACCTACGCTACCTGCTAAACACTTCCCGCTCTG'),\n",
    "    ('ACGAGCAGCCACAGCACACCGTTAACTATGTGATAATCCCTCATGCGATG'),\n",
    "    ('CATCGCAAGCCAGCCTAATGACCGATCTCGGGTGTACTAATGGATCGTATCTCCACTCTTACACTGTCGTATTG'),\n",
    "    ('TCCCAGGCACTGCGACAGAAACGAGAGCGGTTTTTGACGATGGCATTCATCGATTTTCCCCCCCCTACTGATACAAACAGT'),\n",
    "    ('AAGCGTAATGCTGGGTAGGGAGCAAACAGGTCAAGCGGACTTGTAACCATTTTTCCCACTAAGAAGTCGCATATA')\n",
    "]\n",
    "    \n",
    "geneology_tree(Set_Strings_10)"
   ]
  },
  {
   "cell_type": "code",
   "execution_count": 14,
   "metadata": {},
   "outputs": [
    {
     "name": "stdout",
     "output_type": "stream",
     "text": [
      "                    6\n",
      "                   / \\\n",
      "                  /   \\\n",
      "                 /     \\\n",
      "                /       \\\n",
      "               /         \\\n",
      "              /           \\\n",
      "             /             \\\n",
      "            16              0\n",
      "           / \\             / \\\n",
      "          /   \\           /   \\\n",
      "         /     \\         /     \\\n",
      "        /       \\       1      11\n",
      "       /         \\     / \\     / \\\n",
      "      10          7   19  8   12  2\n",
      "     / \\         / \\\n",
      "    /   \\       9  13\n",
      "   /     \\     /\n",
      "  17      3   14\n",
      " / \\     / \\\n",
      "18  5   15  4\n"
     ]
    },
    {
     "data": {
      "text/plain": [
       "[6, 16, 0, 10, 7, 1, 11, 17, 3, 9, 13, 19, 8, 12, 2, 18, 5, 15, 4, 14]"
      ]
     },
     "execution_count": 14,
     "metadata": {},
     "output_type": "execute_result"
    }
   ],
   "source": [
    "Set_Strings_20 = [\n",
    "    ('ACAATCCTCGCGCAGAACAACACTTTTAACGTATCCTTGATCATTTTCCGTCCTAAGTCGAATT'),\n",
    "    ('CATCGCAAGCCAGCCTAATGACCGATCTCGGGTGTACTAATGGATCGTATCTCCACTCTTACACTGTCGTATTG'),\n",
    "    ('TCCCAGGCACTGCGACAGAAACGAGAGCGGTTTTTGACGATGGCATTCATCGATTTTCCCCCCCCTACTGATACAAACAGT'),\n",
    "    ('AAGCGTAATGCTGGGTAGGGAGCAAACAGGTCAAGCGGACTTGTAACCATTTTTCCCACTAAGAAGTCGCATATA'),\n",
    "    ('GCGTCCGCAACGTTGGGCTTCAAACGTACCGAGTTTCCGATGGATTATATTGGACAGATGATCCTACCAAGTGCCTTTTCTAACAGCTCGGTAATGTC'),\n",
    "    ('ACAGACTGCGGAAGCGCGACGCTTGATTTCGGCAGCCCCACGGATGGTACATAACTGCTGTTACCTACGCTACCTGCTAAACACTTCCCGCTCTG'),\n",
    "    ('ACGAGCAGCCACAGCACACCGTTAACTATGTGATAATCCCTCATGCGATG'),\n",
    "    ('CATCGCAAGCCAGCCTAATGACCGATCTCGGGTGTACTAATGGATCGTATCTCCACTCTTACACTGTCGTATTG'),\n",
    "    ('TCCCAGGCACTGCGACAGAAACGAGAGCGGTTTTTGACGATGGCATTCATCGATTTTCCCCCCCCTACTGATACAAACAGT'),\n",
    "    ('AAGCGTAATGCTGGGTAGGGAGCAAACAGGTCAAGCGGACTTGTAACCATTTTTCCCACTAAGAAGTCGCATATA'),\n",
    "    ('ACAATCCTCGCGCAGAACAACACTTTTAACGTATCCTTGATCATTTTCCGTCCTAAGTCGAATT'),\n",
    "    ('CATCGCAAGCCAGCCTAATGACCGATCTCGGGTGTACTAATGGATCGTATCTCCACTCTTACACTGTCGTATTG'),\n",
    "    ('TCCCAGGCACTGCGACAGAAACGAGAGCGGTTTTTGACGATGGCATTCATCGATTTTCCCCCCCCTACTGATACAAACAGT'),\n",
    "    ('AAGCGTAATGCTGGGTAGGGAGCAAACAGGTCAAGCGGACTTGTAACCATTTTTCCCACTAAGAAGTCGCATATA'),\n",
    "    ('GCGTCCGCAACGTTGGGCTTCAAACGTACCGAGTTTCCGATGGATTATATTGGACAGATGATCCTACCAAGTGCCTTTTCTAACAGCTCGGTAATGTC'),\n",
    "    ('ACAGACTGCGGAAGCGCGACGCTTGATTTCGGCAGCCCCACGGATGGTACATAACTGCTGTTACCTACGCTACCTGCTAAACACTTCCCGCTCTG'),\n",
    "    ('ACGAGCAGCCACAGCACACCGTTAACTATGTGATAATCCCTCATGCGATG'),\n",
    "    ('CATCGCAAGCCAGCCTAATGACCGATCTCGGGTGTACTAATGGATCGTATCTCCACTCTTACACTGTCGTATTG'),\n",
    "    ('TCCCAGGCACTGCGACAGAAACGAGAGCGGTTTTTGACGATGGCATTCATCGATTTTCCCCCCCCTACTGATACAAACAGT'),\n",
    "    ('AAGCGTAATGCTGGGTAGGGAGCAAACAGGTCAAGCGGACTTGTAACCATTTTTCCCACTAAGAAGTCGCATATA')\n",
    "    \n",
    "]\n",
    "    \n",
    "geneology_tree(Set_Strings_20)"
   ]
  },
  {
   "cell_type": "markdown",
   "metadata": {
    "deletable": false,
    "editable": false,
    "nbgrader": {
     "checksum": "b6a555f91183162ebb0a3329c6b0376e",
     "grade": false,
     "grade_id": "cell-ea63d54a6ed15f3f",
     "locked": true,
     "schema_version": 1,
     "solution": false
    }
   },
   "source": [
    "### Question 5. [#ComputationalCritique] \n",
    "\n",
    "Write any strengths or weaknesses of your suggested algorithm.\n"
   ]
  },
  {
   "cell_type": "markdown",
   "metadata": {
    "deletable": false,
    "nbgrader": {
     "checksum": "3b3da978eaaf95a4460df8c11db9a158",
     "grade": true,
     "grade_id": "cell-3998b4dd87b3c6d6",
     "locked": false,
     "points": 0,
     "schema_version": 1,
     "solution": true
    }
   },
   "source": [
    "Weaknessess:\n",
    "1. The algorithm doesn't have a defined procedure to follow when we have similar row sums.\n",
    "2. Errors can trickle down because there's no way to revisit choices the algorithm makes\n",
    "3. Requires extra storage. This can be corrected by implementing a greedy version instead as it will still maintain the optimal substructure property\n",
    "\n",
    "Strengths:\n",
    "1. The algorithm runs in polynomial time which is better than the exponential time complexity we would require to implement a brute force version of the same algorithm"
   ]
  },
  {
   "cell_type": "markdown",
   "metadata": {
    "deletable": false,
    "editable": false,
    "nbgrader": {
     "checksum": "b3b4363d8be3282925c611477b3c37de",
     "grade": false,
     "grade_id": "cell-b395aed18ada65fb",
     "locked": true,
     "schema_version": 1,
     "solution": false
    }
   },
   "source": [
    "### Question 6. [#ComplexityAnalysis] \n",
    "\n",
    "What is the computational complexity of your solution to produce genealogy binary trees? You can consider M to be the length of a gene, and N the number of genes."
   ]
  },
  {
   "cell_type": "markdown",
   "metadata": {
    "deletable": false,
    "nbgrader": {
     "checksum": "bf6ec1d0b5f51b86d434c732525260b9",
     "grade": true,
     "grade_id": "cell-f8bec0a49ae60dee",
     "locked": false,
     "points": 0,
     "schema_version": 1,
     "solution": true
    }
   },
   "source": [
    "1. Recall that `longestCommonSubsequence` has a complexity of $O(mn)$\n",
    "2. We the have 2 for loops; i ={0,...,N} & j ={0,...,N} where for each (i,j), we call `longestCommonSubsequence`. This gives us a complexity of $O(N^2*m*n)$\n",
    "3. Add N complexity for normalizing: $O(N^2mn + N)$\n",
    "4. Add N complexity for normalizing: $O(N^2mn + N + N)$\n",
    "5. We observe that the highest order term is $O(N^2mn)$\n",
    "6. Therefore, our complexity is $O(N^2mn)$"
   ]
  },
  {
   "cell_type": "markdown",
   "metadata": {},
   "source": [
    "### Question 7. [#ComputationalSolutions, #PythonProgramming, #CodeReadability] \n",
    "\n",
    "How would you estimate the probabilities of insertions, deletions, and mutations, $p_i, p_d,$ and $p_c$, respectively? (Hint: It is obvious that you don’t have enough data to obtain meaningful estimates for large datasets, but this small dataset has enough information for you to intuitively formulate estimates for $p_i, p_d,$ and $p_c$.). Make sure you include a working Python estimation that would take your algorithmic strategy into practice."
   ]
  },
  {
   "cell_type": "markdown",
   "metadata": {},
   "source": [
    "I would use a dynamic algorithm to find the edit distance. The edit distance is the minimum number of edit operations to transform a string x(which will be the parent gene sequence) into y (the child gene sequence). The possible operations are deletion (when there is a space in the child sequence), insertion (when there is a space in the parent sequence) or substitution (when there are two different characteres in the same position) of a single character or symbol. To estimate the probability of mutation we would take the number of possible mutations and divide them over the length of string, we would repeat the same for both insertion and deletion."
   ]
  },
  {
   "cell_type": "code",
   "execution_count": 15,
   "metadata": {
    "deletable": false,
    "nbgrader": {
     "checksum": "6d6a00bbff4022b4ba517d0a8dd4dd77",
     "grade": true,
     "grade_id": "cell-ceaf3b6e672cb224",
     "locked": false,
     "points": 0,
     "schema_version": 1,
     "solution": true
    }
   },
   "outputs": [
    {
     "name": "stdout",
     "output_type": "stream",
     "text": [
      "My estimate for P(insertion) is 22.01555703722579 %\n",
      "My estimate for P(deletion) is 1.4044635398018857 %\n",
      "My estimate for P(substitution) is 20.756545377577122 %\n"
     ]
    }
   ],
   "source": [
    "# edit_distance is adapted from https://www.codespeedy.com/minimum-edit-distance-in-python/\n",
    "def edit_distance(x, y):\n",
    "    \"\"\"\n",
    "    Function that calculates and returns the minimum number of insertions, substitutions \n",
    "    and deletions needed in order to transform string x into string y\n",
    "    \n",
    "    Has a time complexity of O(mn)\n",
    "    \n",
    "    \"\"\"\n",
    "\n",
    "    # rejects any non-String entries\n",
    "    if type(x) != str or type(y) != str:\n",
    "        raise TypeError('Inputs must be strings')\n",
    "\n",
    "    # lenghts of the strings; will be used as the array dimensions\n",
    "    m = len(x)\n",
    "    n = len(y)\n",
    "\n",
    "    # initialize a table to store results of subproblems\n",
    "    string_matrix = [[0 for b in range(n + 1)] for c in range(m + 1)]\n",
    "\n",
    "    # for loop that traverses the table\n",
    "    for i in range(m + 1):\n",
    "        for j in range(n + 1):\n",
    "            # if string x is empty, the cost of transforming x to y is inserting every element of y into x\n",
    "            if i == 0:\n",
    "                string_matrix[i][j] = j\n",
    "            # if string y is empty the cost of transforming x to y is deleting every element of x\n",
    "            elif j == 0:\n",
    "                string_matrix[i][j] = i\n",
    "            # but if the last characters of x and y are equal, there's not much we can do\n",
    "            # we ignore the last two characters and get the count of the remaining strings\n",
    "            elif x[i - 1] == y[j - 1]:\n",
    "                string_matrix[i][j] = string_matrix[i - 1][j - 1]\n",
    "            # otherwise\n",
    "            else:\n",
    "                string_matrix[i][j] = 1 + min(string_matrix[i - 1][j - 1], # substitute operation\n",
    "                                  string_matrix[i][j - 1],                 # insert operation\n",
    "                                  string_matrix[i - 1][j])                 # delete operation\n",
    "\n",
    "    # initializing i and j; and counting the number of insertions, deletions and substitution operations\n",
    "    i = m\n",
    "    j = n\n",
    "    ins = 0   \n",
    "    dels = 0  \n",
    "    subs = 0  \n",
    "#___________________________________________________________\n",
    "# implemented the retracing code with the help of Hung Nguyen\n",
    "\n",
    "    # while loop retraces the path that the algorithm took to turn X into Y\n",
    "    while i != 0 and j != 0:\n",
    "        # if the elements in x and y are equal, then no edits are needed\n",
    "        # we decrement i and j\n",
    "        if x[i - 1] == y[j - 1]:\n",
    "            i -= 1\n",
    "            j -= 1\n",
    "        # but if the elements are different, we find the edit distance value prior to making a chance\n",
    "        else:  \n",
    "            value = string_matrix[i][j] - 1\n",
    "             # If the algorithm took the substitution route\n",
    "            if value == string_matrix[i - 1][j - 1]:  # if we substituted\n",
    "                subs += 1\n",
    "                i -= 1\n",
    "                j -= 1\n",
    "\n",
    "            elif value == string_matrix[i][j - 1]:    # if we inserted\n",
    "                ins += 1\n",
    "                j -= 1\n",
    "\n",
    "            else:                                     # if we deleted\n",
    "                dels += 1\n",
    "                i -= 1\n",
    "    # to find the probability we divide the insertion, deletion and substitution \n",
    "    # counts with the length of the larger string\n",
    "    return ins/max(len(x),len(y)), dels/max(len(x),len(y)), subs/max(len(x),len(y))\n",
    "# ________________________________________________\n",
    "# implemented the probability estimation part with the help from Ahmed ElKattam\n",
    "\n",
    "#estimating our probabilities for insertion, deletion and substitution\n",
    "\n",
    "p_insertion = 0 \n",
    "p_deletion = 0 \n",
    "p_substitution = 0\n",
    "\n",
    "# using the 6 parent-child relationships from question 2 and 3\n",
    "# we find our probability by dividing the number of mutations (insertion, \n",
    "# deletions & substitution) operations with the length of the sequence itself\n",
    "\n",
    "probability_storage=[edit_distance(Set_Strings[6],Set_Strings[1]),\n",
    "                     edit_distance(Set_Strings[6],Set_Strings[0]), \n",
    "                     edit_distance(Set_Strings[1],Set_Strings[3]), \n",
    "                     edit_distance(Set_Strings[1],Set_Strings[5]), \n",
    "                     edit_distance(Set_Strings[0],Set_Strings[2]), \n",
    "                     edit_distance(Set_Strings[0],Set_Strings[4])]\n",
    "\n",
    "for i in probability_storage: \n",
    "    p_insertion += i[0]/6\n",
    "    p_deletion += i[1]/6 \n",
    "    p_substitution += i[2]/6\n",
    "    \n",
    "print(\"My estimate for P(insertion) is\",p_insertion*100,\"%\")\n",
    "print(\"My estimate for P(deletion) is\",p_deletion*100,\"%\")\n",
    "print(\"My estimate for P(substitution) is\",p_substitution*100,\"%\")\n"
   ]
  },
  {
   "cell_type": "markdown",
   "metadata": {},
   "source": [
    "## HC Application\n",
    "* #algorithms - In question 4, I implemented working code that takes as input 𝑁 sequencing strings and outputs a genealogy binary tree associated with the 𝑁 strings that best exposes the relationships between them in 𝑂(𝑁^2𝑚𝑛) time. I also included detailed explanations of the code.\n",
    "* #breakitdown - question 4 involved implementing a working python code that at minimum executed the following subproblems: received 𝑁 sequencing strings as an input, initialized an N*N empty square matrix, run the `longestCommonSubsequence` function and stored the LCS_values in the matrix we had created, normalized the matrix, found the sums of each row of the matrix, ranked the sums in descending order and used the information to infer parent-child relationships. These steps, among others, culminated in the creation of a geneology tree that characterized the relationship between the input of strings we'd received\n",
    "* #dataviz - in question 3, I plotted a heatmap to help examine the matrix C_. For question 3 and 4, I drew the resulting geneology trees from the `gene_rank` list. The visualizations helped derive a stratagy for using `longestCommonSubsequence` to infer the geneological relationship between strings and effectively present these using tree diagrams"
   ]
  },
  {
   "cell_type": "code",
   "execution_count": null,
   "metadata": {},
   "outputs": [],
   "source": []
  }
 ],
 "metadata": {
  "kernelspec": {
   "display_name": "Python 3",
   "language": "python",
   "name": "python3"
  },
  "language_info": {
   "codemirror_mode": {
    "name": "ipython",
    "version": 3
   },
   "file_extension": ".py",
   "mimetype": "text/x-python",
   "name": "python",
   "nbconvert_exporter": "python",
   "pygments_lexer": "ipython3",
   "version": "3.7.6"
  }
 },
 "nbformat": 4,
 "nbformat_minor": 2
}

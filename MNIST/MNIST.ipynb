{
 "cells": [
  {
   "cell_type": "markdown",
   "metadata": {},
   "source": [
    "### CS156 Assignment 1\n",
    "\n",
    "#### Dennis Kageni"
   ]
  },
  {
   "cell_type": "markdown",
   "metadata": {},
   "source": [
    "## Moore's Law"
   ]
  },
  {
   "cell_type": "code",
   "execution_count": 1,
   "metadata": {},
   "outputs": [],
   "source": [
    "import pandas as pd\n",
    "import numpy as np\n",
    "from scipy import stats\n",
    "import datetime as dt\n",
    "import matplotlib.pyplot as plt\n",
    "import math\n",
    "\n",
    "import warnings\n",
    "warnings.simplefilter('ignore') #supress warnings"
   ]
  },
  {
   "cell_type": "markdown",
   "metadata": {},
   "source": [
    "#### Load and explore data"
   ]
  },
  {
   "cell_type": "code",
   "execution_count": 2,
   "metadata": {
    "scrolled": true
   },
   "outputs": [
    {
     "data": {
      "text/html": [
       "<div>\n",
       "<style scoped>\n",
       "    .dataframe tbody tr th:only-of-type {\n",
       "        vertical-align: middle;\n",
       "    }\n",
       "\n",
       "    .dataframe tbody tr th {\n",
       "        vertical-align: top;\n",
       "    }\n",
       "\n",
       "    .dataframe thead th {\n",
       "        text-align: right;\n",
       "    }\n",
       "</style>\n",
       "<table border=\"1\" class=\"dataframe\">\n",
       "  <thead>\n",
       "    <tr style=\"text-align: right;\">\n",
       "      <th></th>\n",
       "      <th>testID</th>\n",
       "      <th>benchName</th>\n",
       "      <th>base</th>\n",
       "      <th>peak</th>\n",
       "    </tr>\n",
       "  </thead>\n",
       "  <tbody>\n",
       "    <tr>\n",
       "      <th>0</th>\n",
       "      <td>cpu95-19990104-03254</td>\n",
       "      <td>101.tomcatv</td>\n",
       "      <td>19.40</td>\n",
       "      <td>27.1</td>\n",
       "    </tr>\n",
       "    <tr>\n",
       "      <th>1</th>\n",
       "      <td>cpu95-19990104-03254</td>\n",
       "      <td>102.swim</td>\n",
       "      <td>27.20</td>\n",
       "      <td>34.8</td>\n",
       "    </tr>\n",
       "    <tr>\n",
       "      <th>2</th>\n",
       "      <td>cpu95-19990104-03254</td>\n",
       "      <td>103.su2cor</td>\n",
       "      <td>10.10</td>\n",
       "      <td>9.98</td>\n",
       "    </tr>\n",
       "    <tr>\n",
       "      <th>3</th>\n",
       "      <td>cpu95-19990104-03254</td>\n",
       "      <td>104.hydro2d</td>\n",
       "      <td>8.58</td>\n",
       "      <td>8.61</td>\n",
       "    </tr>\n",
       "    <tr>\n",
       "      <th>4</th>\n",
       "      <td>cpu95-19990104-03254</td>\n",
       "      <td>107.mgrid</td>\n",
       "      <td>8.94</td>\n",
       "      <td>9.44</td>\n",
       "    </tr>\n",
       "  </tbody>\n",
       "</table>\n",
       "</div>"
      ],
      "text/plain": [
       "                 testID    benchName   base  peak\n",
       "0  cpu95-19990104-03254  101.tomcatv  19.40  27.1\n",
       "1  cpu95-19990104-03254     102.swim  27.20  34.8\n",
       "2  cpu95-19990104-03254   103.su2cor  10.10  9.98\n",
       "3  cpu95-19990104-03254  104.hydro2d   8.58  8.61\n",
       "4  cpu95-19990104-03254    107.mgrid   8.94  9.44"
      ]
     },
     "execution_count": 2,
     "metadata": {},
     "output_type": "execute_result"
    }
   ],
   "source": [
    "data = pd.read_csv('benchmarks.txt', low_memory = False)\n",
    "data.head(5)\n",
    "# data.loc[: , \"testID\"]"
   ]
  },
  {
   "cell_type": "code",
   "execution_count": 3,
   "metadata": {
    "scrolled": true
   },
   "outputs": [
    {
     "name": "stdout",
     "output_type": "stream",
     "text": [
      "<class 'pandas.core.frame.DataFrame'>\n",
      "RangeIndex: 136995 entries, 0 to 136994\n",
      "Data columns (total 4 columns):\n",
      "testID       136995 non-null object\n",
      "benchName    136995 non-null object\n",
      "base         136995 non-null float64\n",
      "peak         131575 non-null object\n",
      "dtypes: float64(1), object(3)\n",
      "memory usage: 4.2+ MB\n"
     ]
    }
   ],
   "source": [
    "data.info()\n",
    "# We need to extract the date from testID and convert it into datetime"
   ]
  },
  {
   "cell_type": "code",
   "execution_count": 4,
   "metadata": {},
   "outputs": [
    {
     "data": {
      "text/plain": [
       "array(['101.tomcatv', '102.swim', '103.su2cor', '104.hydro2d',\n",
       "       '107.mgrid', '110.applu', '125.turb3d', '141.apsi', '145.fpppp',\n",
       "       '146.wave5', '099.go', '124.m88ksim', '126.gcc', '129.compress',\n",
       "       '130.li', '132.ijpeg', '134.perl', '147.vortex', '168.wupwise',\n",
       "       '171.swim', '172.mgrid', '173.applu', '177.mesa', '178.galgel',\n",
       "       '179.art', '183.equake', '187.facerec', '188.ammp', '189.lucas',\n",
       "       '191.fma3d', '200.sixtrack', '301.apsi', '164.gzip', '175.vpr',\n",
       "       '176.gcc', '181.mcf', '186.crafty', '197.parser', '252.eon',\n",
       "       '253.perlbmk', '254.gap', '255.vortex', '256.bzip2', '300.twolf',\n",
       "       '400.perlbench', '401.bzip2', '403.gcc', '429.mcf', '445.gobmk',\n",
       "       '456.hmmer', '458.sjeng', '462.libquantum', '464.h264ref',\n",
       "       '471.omnetpp', '473.astar', '483.xalancbmk', '410.bwaves',\n",
       "       '416.gamess', '433.milc', '434.zeusmp', '435.gromacs',\n",
       "       '436.cactusADM', '437.leslie3d', '444.namd', '447.dealII',\n",
       "       '450.soplex', '453.povray', '454.calculix', '459.GemsFDTD',\n",
       "       '465.tonto', '470.lbm', '481.wrf', '482.sphinx3'], dtype=object)"
      ]
     },
     "execution_count": 4,
     "metadata": {},
     "output_type": "execute_result"
    }
   ],
   "source": [
    "# find types of benchmarks\n",
    "pd.unique(data['benchName'])"
   ]
  },
  {
   "cell_type": "markdown",
   "metadata": {},
   "source": [
    "#### Extracting date"
   ]
  },
  {
   "cell_type": "code",
   "execution_count": 5,
   "metadata": {},
   "outputs": [],
   "source": [
    "date = data['testID']\n",
    "date = date.str.extract(r'(-[0-9]+-)', expand=False)\n",
    "data['testID'] = date.str.replace('-', '')\n",
    "data = data.dropna()\n"
   ]
  },
  {
   "cell_type": "markdown",
   "metadata": {},
   "source": [
    "#### Selecting Benchmark"
   ]
  },
  {
   "cell_type": "code",
   "execution_count": 6,
   "metadata": {},
   "outputs": [
    {
     "data": {
      "text/html": [
       "<div>\n",
       "<style scoped>\n",
       "    .dataframe tbody tr th:only-of-type {\n",
       "        vertical-align: middle;\n",
       "    }\n",
       "\n",
       "    .dataframe tbody tr th {\n",
       "        vertical-align: top;\n",
       "    }\n",
       "\n",
       "    .dataframe thead th {\n",
       "        text-align: right;\n",
       "    }\n",
       "</style>\n",
       "<table border=\"1\" class=\"dataframe\">\n",
       "  <thead>\n",
       "    <tr style=\"text-align: right;\">\n",
       "      <th></th>\n",
       "      <th>testID</th>\n",
       "      <th>benchName</th>\n",
       "      <th>base</th>\n",
       "      <th>peak</th>\n",
       "    </tr>\n",
       "  </thead>\n",
       "  <tbody>\n",
       "    <tr>\n",
       "      <th>9309</th>\n",
       "      <td>1998-11-18</td>\n",
       "      <td>147.vortex</td>\n",
       "      <td>9.66</td>\n",
       "      <td>14.7</td>\n",
       "    </tr>\n",
       "    <tr>\n",
       "      <th>9317</th>\n",
       "      <td>1998-11-23</td>\n",
       "      <td>147.vortex</td>\n",
       "      <td>21.90</td>\n",
       "      <td>21.9</td>\n",
       "    </tr>\n",
       "    <tr>\n",
       "      <th>9335</th>\n",
       "      <td>1998-12-04</td>\n",
       "      <td>147.vortex</td>\n",
       "      <td>26.40</td>\n",
       "      <td>27.8</td>\n",
       "    </tr>\n",
       "    <tr>\n",
       "      <th>9343</th>\n",
       "      <td>1998-12-07</td>\n",
       "      <td>147.vortex</td>\n",
       "      <td>19.30</td>\n",
       "      <td>19.3</td>\n",
       "    </tr>\n",
       "    <tr>\n",
       "      <th>9371</th>\n",
       "      <td>1998-12-21</td>\n",
       "      <td>147.vortex</td>\n",
       "      <td>27.20</td>\n",
       "      <td>31.8</td>\n",
       "    </tr>\n",
       "  </tbody>\n",
       "</table>\n",
       "</div>"
      ],
      "text/plain": [
       "         testID   benchName   base  peak\n",
       "9309 1998-11-18  147.vortex   9.66  14.7\n",
       "9317 1998-11-23  147.vortex  21.90  21.9\n",
       "9335 1998-12-04  147.vortex  26.40  27.8\n",
       "9343 1998-12-07  147.vortex  19.30  19.3\n",
       "9371 1998-12-21  147.vortex  27.20  31.8"
      ]
     },
     "execution_count": 6,
     "metadata": {},
     "output_type": "execute_result"
    }
   ],
   "source": [
    "vortex_data = data[data['benchName'] == '147.vortex']\n",
    "vortex_data['testID'] = vortex_data['testID'].apply(lambda x: pd.to_datetime(x))\n",
    "\n",
    "vortex_data.tail()"
   ]
  },
  {
   "cell_type": "code",
   "execution_count": 7,
   "metadata": {},
   "outputs": [
    {
     "name": "stdout",
     "output_type": "stream",
     "text": [
      "<class 'pandas.core.frame.DataFrame'>\n",
      "Int64Index: 494 entries, 17 to 9371\n",
      "Data columns (total 4 columns):\n",
      "testID       494 non-null datetime64[ns]\n",
      "benchName    494 non-null object\n",
      "base         494 non-null float64\n",
      "peak         494 non-null object\n",
      "dtypes: datetime64[ns](1), float64(1), object(2)\n",
      "memory usage: 19.3+ KB\n"
     ]
    }
   ],
   "source": [
    "vortex_data.info()"
   ]
  },
  {
   "cell_type": "code",
   "execution_count": 8,
   "metadata": {},
   "outputs": [],
   "source": [
    "#sorting by dates\n",
    "vortex_data = vortex_data.sort_values(by='testID')\n",
    "vortex_data = vortex_data.sort_index()"
   ]
  },
  {
   "cell_type": "code",
   "execution_count": 9,
   "metadata": {
    "scrolled": true
   },
   "outputs": [
    {
     "data": {
      "image/png": "[encoded data removed]",
      "text/plain": [
       "<Figure size 1152x576 with 1 Axes>"
      ]
     },
     "metadata": {
      "needs_background": "light"
     },
     "output_type": "display_data"
    }
   ],
   "source": [
    "#training linear regression on log of data to fit exponential curve\n",
    "x = vortex_data['testID']\n",
    "#converting to ordinal for regression\n",
    "x2 = pd.to_datetime(vortex_data['testID'])\n",
    "x2 = x2.map(dt.datetime.toordinal)\n",
    "\n",
    "y = vortex_data['base']\n",
    "y2=y.apply(lambda x: math.log(x,2))\n",
    "\n",
    "slope, intercept, _, _, _ = stats.linregress(x2, y2)\n",
    "line = 2**(slope*x2+intercept)\n",
    "\n",
    "#plotting on semi-log graph, exponential fit straightens out\n",
    "plt.figure(figsize=(16,8))\n",
    "plt.yscale('log',basey=2)\n",
    "plt.plot_date(x, y, \"o\", markersize=1)\n",
    "plt.plot_date(x, line, '-r')\n",
    "plt.show()"
   ]
  },
  {
   "cell_type": "markdown",
   "metadata": {},
   "source": [
    "From the results above, we can see that the base speed is increasing at a rate of roughly 2X units every two years. This is consistent with the doubling phenomenom described in Moore's Law."
   ]
  },
  {
   "cell_type": "markdown",
   "metadata": {},
   "source": [
    " ## MNIST Digits"
   ]
  },
  {
   "cell_type": "code",
   "execution_count": 10,
   "metadata": {},
   "outputs": [
    {
     "name": "stdout",
     "output_type": "stream",
     "text": [
      "(1797, 64)\n"
     ]
    },
    {
     "data": {
      "image/png": "[encoded data removed]",
      "text/plain": [
       "<Figure size 288x288 with 1 Axes>"
      ]
     },
     "metadata": {
      "needs_background": "light"
     },
     "output_type": "display_data"
    },
    {
     "data": {
      "image/png": "[encoded data removed]",
      "text/plain": [
       "<Figure size 288x288 with 1 Axes>"
      ]
     },
     "metadata": {
      "needs_background": "light"
     },
     "output_type": "display_data"
    }
   ],
   "source": [
    "from sklearn.datasets import load_digits\n",
    "from sklearn import datasets, neighbors\n",
    "from sklearn.model_selection import train_test_split \n",
    "\n",
    "digits = load_digits()\n",
    "print(digits.data.shape)\n",
    "##(1797, 64)\n",
    "\n",
    "plt.matshow(digits.images[1]) \n",
    "plt.matshow(digits.images[7]) \n",
    "plt.show() "
   ]
  },
  {
   "cell_type": "code",
   "execution_count": 11,
   "metadata": {},
   "outputs": [
    {
     "name": "stdout",
     "output_type": "stream",
     "text": [
      "Accuracy: 0.993333\n"
     ]
    }
   ],
   "source": [
    "X_digits = digits.data / digits.data.max()\n",
    "y_digits = digits.target\n",
    "\n",
    "X_train, X_test, y_train, y_test = train_test_split(X_digits, y_digits, random_state=1)\n",
    "\n",
    "KNN_classifier = neighbors.KNeighborsClassifier()\n",
    "\n",
    "print('Accuracy: %f' % KNN_classifier.fit(X_train, y_train).score(X_test, y_test))"
   ]
  },
  {
   "cell_type": "code",
   "execution_count": 12,
   "metadata": {},
   "outputs": [
    {
     "data": {
      "text/plain": [
       "KNeighborsClassifier(algorithm='auto', leaf_size=30, metric='minkowski',\n",
       "                     metric_params=None, n_jobs=None, n_neighbors=5, p=2,\n",
       "                     weights='uniform')"
      ]
     },
     "execution_count": 12,
     "metadata": {},
     "output_type": "execute_result"
    }
   ],
   "source": [
    "KNN_classifier.fit(X_train, y_train)"
   ]
  },
  {
   "cell_type": "code",
   "execution_count": 13,
   "metadata": {},
   "outputs": [],
   "source": [
    "y_pred = KNN_classifier.predict(X_test)"
   ]
  },
  {
   "cell_type": "code",
   "execution_count": 14,
   "metadata": {},
   "outputs": [],
   "source": [
    "from sklearn.metrics import confusion_matrix, classification_report"
   ]
  },
  {
   "cell_type": "code",
   "execution_count": 15,
   "metadata": {},
   "outputs": [
    {
     "name": "stdout",
     "output_type": "stream",
     "text": [
      "[[53  0  0  0  0  0  0  0  0  0]\n",
      " [ 0 42  0  0  0  0  0  0  0  0]\n",
      " [ 0  0 40  0  0  0  0  1  0  0]\n",
      " [ 0  0  0 52  0  0  0  0  0  0]\n",
      " [ 0  0  0  0 47  0  0  0  0  0]\n",
      " [ 0  0  0  0  0 38  0  0  0  1]\n",
      " [ 0  0  0  0  0  0 43  0  0  0]\n",
      " [ 0  0  0  0  0  0  0 47  0  1]\n",
      " [ 0  0  0  0  0  0  0  0 37  0]\n",
      " [ 0  0  0  0  0  0  0  0  0 48]]\n"
     ]
    }
   ],
   "source": [
    "print(confusion_matrix(y_test, y_pred))"
   ]
  },
  {
   "cell_type": "code",
   "execution_count": 16,
   "metadata": {
    "scrolled": true
   },
   "outputs": [
    {
     "name": "stdout",
     "output_type": "stream",
     "text": [
      "              precision    recall  f1-score   support\n",
      "\n",
      "           0       1.00      1.00      1.00        53\n",
      "           1       1.00      1.00      1.00        42\n",
      "           2       1.00      0.98      0.99        41\n",
      "           3       1.00      1.00      1.00        52\n",
      "           4       1.00      1.00      1.00        47\n",
      "           5       1.00      0.97      0.99        39\n",
      "           6       1.00      1.00      1.00        43\n",
      "           7       0.98      0.98      0.98        48\n",
      "           8       1.00      1.00      1.00        37\n",
      "           9       0.96      1.00      0.98        48\n",
      "\n",
      "    accuracy                           0.99       450\n",
      "   macro avg       0.99      0.99      0.99       450\n",
      "weighted avg       0.99      0.99      0.99       450\n",
      "\n"
     ]
    }
   ],
   "source": [
    "print(classification_report(y_test, y_pred))"
   ]
  }
 ],
 "metadata": {
  "kernelspec": {
   "display_name": "Python 3",
   "language": "python",
   "name": "python3"
  },
  "language_info": {
   "codemirror_mode": {
    "name": "ipython",
    "version": 3
   },
   "file_extension": ".py",
   "mimetype": "text/x-python",
   "name": "python",
   "nbconvert_exporter": "python",
   "pygments_lexer": "ipython3",
   "version": "3.7.3"
  }
 },
 "nbformat": 4,
 "nbformat_minor": 2
}
